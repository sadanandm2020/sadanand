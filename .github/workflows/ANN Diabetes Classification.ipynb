{
 "cells": [
  {
   "cell_type": "code",
   "execution_count": 1,
   "metadata": {},
   "outputs": [
    {
     "name": "stderr",
     "output_type": "stream",
     "text": [
      "Using TensorFlow backend.\n"
     ]
    }
   ],
   "source": [
    "import numpy as np\n",
    "import matplotlib.pyplot as plt\n",
    "import pandas as pd\n",
    "\n",
    "import keras\n",
    "from keras.models import Sequential\n",
    "from keras.layers import Dense\n",
    "from keras.layers import LeakyReLU,PReLU,ELU\n",
    "from keras.layers import Dropout\n",
    "from sklearn.preprocessing import StandardScaler\n",
    "from sklearn.model_selection import train_test_split\n",
    "from sklearn.metrics import confusion_matrix\n",
    "from sklearn.metrics import accuracy_score\n"
   ]
  },
  {
   "cell_type": "code",
   "execution_count": 2,
   "metadata": {},
   "outputs": [
    {
     "data": {
      "text/html": [
       "<div>\n",
       "<style scoped>\n",
       "    .dataframe tbody tr th:only-of-type {\n",
       "        vertical-align: middle;\n",
       "    }\n",
       "\n",
       "    .dataframe tbody tr th {\n",
       "        vertical-align: top;\n",
       "    }\n",
       "\n",
       "    .dataframe thead th {\n",
       "        text-align: right;\n",
       "    }\n",
       "</style>\n",
       "<table border=\"1\" class=\"dataframe\">\n",
       "  <thead>\n",
       "    <tr style=\"text-align: right;\">\n",
       "      <th></th>\n",
       "      <th>Pregnancies</th>\n",
       "      <th>Glucose</th>\n",
       "      <th>BloodPressure</th>\n",
       "      <th>SkinThickness</th>\n",
       "      <th>Insulin</th>\n",
       "      <th>BMI</th>\n",
       "      <th>DiabetesPedigreeFunction</th>\n",
       "      <th>Age</th>\n",
       "      <th>Outcome</th>\n",
       "    </tr>\n",
       "  </thead>\n",
       "  <tbody>\n",
       "    <tr>\n",
       "      <td>0</td>\n",
       "      <td>6</td>\n",
       "      <td>148</td>\n",
       "      <td>72</td>\n",
       "      <td>35</td>\n",
       "      <td>0</td>\n",
       "      <td>33.6</td>\n",
       "      <td>0.627</td>\n",
       "      <td>50</td>\n",
       "      <td>1</td>\n",
       "    </tr>\n",
       "    <tr>\n",
       "      <td>1</td>\n",
       "      <td>1</td>\n",
       "      <td>85</td>\n",
       "      <td>66</td>\n",
       "      <td>29</td>\n",
       "      <td>0</td>\n",
       "      <td>26.6</td>\n",
       "      <td>0.351</td>\n",
       "      <td>31</td>\n",
       "      <td>0</td>\n",
       "    </tr>\n",
       "    <tr>\n",
       "      <td>2</td>\n",
       "      <td>8</td>\n",
       "      <td>183</td>\n",
       "      <td>64</td>\n",
       "      <td>0</td>\n",
       "      <td>0</td>\n",
       "      <td>23.3</td>\n",
       "      <td>0.672</td>\n",
       "      <td>32</td>\n",
       "      <td>1</td>\n",
       "    </tr>\n",
       "    <tr>\n",
       "      <td>3</td>\n",
       "      <td>1</td>\n",
       "      <td>89</td>\n",
       "      <td>66</td>\n",
       "      <td>23</td>\n",
       "      <td>94</td>\n",
       "      <td>28.1</td>\n",
       "      <td>0.167</td>\n",
       "      <td>21</td>\n",
       "      <td>0</td>\n",
       "    </tr>\n",
       "    <tr>\n",
       "      <td>4</td>\n",
       "      <td>0</td>\n",
       "      <td>137</td>\n",
       "      <td>40</td>\n",
       "      <td>35</td>\n",
       "      <td>168</td>\n",
       "      <td>43.1</td>\n",
       "      <td>2.288</td>\n",
       "      <td>33</td>\n",
       "      <td>1</td>\n",
       "    </tr>\n",
       "  </tbody>\n",
       "</table>\n",
       "</div>"
      ],
      "text/plain": [
       "   Pregnancies  Glucose  BloodPressure  SkinThickness  Insulin   BMI  \\\n",
       "0            6      148             72             35        0  33.6   \n",
       "1            1       85             66             29        0  26.6   \n",
       "2            8      183             64              0        0  23.3   \n",
       "3            1       89             66             23       94  28.1   \n",
       "4            0      137             40             35      168  43.1   \n",
       "\n",
       "   DiabetesPedigreeFunction  Age  Outcome  \n",
       "0                     0.627   50        1  \n",
       "1                     0.351   31        0  \n",
       "2                     0.672   32        1  \n",
       "3                     0.167   21        0  \n",
       "4                     2.288   33        1  "
      ]
     },
     "execution_count": 2,
     "metadata": {},
     "output_type": "execute_result"
    }
   ],
   "source": [
    "dataset = pd.read_csv('diabetes.csv')\n",
    "dataset.head()"
   ]
  },
  {
   "cell_type": "code",
   "execution_count": 3,
   "metadata": {},
   "outputs": [
    {
     "data": {
      "text/plain": [
       "Pregnancies                 0\n",
       "Glucose                     0\n",
       "BloodPressure               0\n",
       "SkinThickness               0\n",
       "Insulin                     0\n",
       "BMI                         0\n",
       "DiabetesPedigreeFunction    0\n",
       "Age                         0\n",
       "Outcome                     0\n",
       "dtype: int64"
      ]
     },
     "execution_count": 3,
     "metadata": {},
     "output_type": "execute_result"
    }
   ],
   "source": [
    "dataset.isnull().sum()"
   ]
  },
  {
   "cell_type": "code",
   "execution_count": 6,
   "metadata": {},
   "outputs": [
    {
     "name": "stdout",
     "output_type": "stream",
     "text": [
      "<class 'pandas.core.frame.DataFrame'>\n",
      "RangeIndex: 768 entries, 0 to 767\n",
      "Data columns (total 9 columns):\n",
      "Pregnancies                 768 non-null int64\n",
      "Glucose                     768 non-null int64\n",
      "BloodPressure               768 non-null int64\n",
      "SkinThickness               768 non-null int64\n",
      "Insulin                     768 non-null int64\n",
      "BMI                         768 non-null float64\n",
      "DiabetesPedigreeFunction    768 non-null float64\n",
      "Age                         768 non-null int64\n",
      "Outcome                     768 non-null int64\n",
      "dtypes: float64(2), int64(7)\n",
      "memory usage: 54.1 KB\n"
     ]
    }
   ],
   "source": [
    "dataset.info()"
   ]
  },
  {
   "cell_type": "code",
   "execution_count": 15,
   "metadata": {},
   "outputs": [
    {
     "data": {
      "text/plain": [
       "0    1\n",
       "1    0\n",
       "2    1\n",
       "3    0\n",
       "4    1\n",
       "Name: Outcome, dtype: int64"
      ]
     },
     "execution_count": 15,
     "metadata": {},
     "output_type": "execute_result"
    }
   ],
   "source": [
    "X = dataset.iloc[:, 0:8]\n",
    "Y = dataset.iloc[:, 8]\n",
    "Y.head()"
   ]
  },
  {
   "cell_type": "code",
   "execution_count": 17,
   "metadata": {},
   "outputs": [],
   "source": [
    "X_train, X_test, y_train, y_test = train_test_split(X, Y, test_size = 0.2, random_state = 0)"
   ]
  },
  {
   "cell_type": "code",
   "execution_count": 20,
   "metadata": {
    "collapsed": true
   },
   "outputs": [
    {
     "data": {
      "text/plain": [
       "array([[ 0.90832902,  0.91569367,  0.44912368, ...,  0.37852648,\n",
       "         0.67740401,  1.69955804],\n",
       "       [ 0.03644676, -0.75182191, -0.47230103, ..., -0.50667229,\n",
       "        -0.07049698, -0.96569189],\n",
       "       [-1.12606292,  1.38763205,  1.06340683, ...,  2.54094063,\n",
       "        -0.11855487, -0.88240283],\n",
       "       ...,\n",
       "       [ 0.03644676, -0.84620959, -0.21634972, ..., -0.94927168,\n",
       "        -0.95656442, -1.04898095],\n",
       "       [ 2.0708387 , -1.12937261,  0.24436264, ..., -0.26640405,\n",
       "        -0.50001442,  0.11706589],\n",
       "       [ 0.32707418,  0.47521786,  0.65388473, ..., -4.07275877,\n",
       "         0.52121586,  2.94889395]])"
      ]
     },
     "execution_count": 20,
     "metadata": {},
     "output_type": "execute_result"
    }
   ],
   "source": [
    "sc = StandardScaler()\n",
    "X_train = sc.fit_transform(X_train)\n",
    "X_test = sc.transform(X_test)\n",
    "X_train"
   ]
  },
  {
   "cell_type": "code",
   "execution_count": 21,
   "metadata": {},
   "outputs": [
    {
     "name": "stdout",
     "output_type": "stream",
     "text": [
      "WARNING:tensorflow:From C:\\Users\\mishrasad\\AppData\\Local\\Continuum\\anaconda3\\lib\\site-packages\\keras\\backend\\tensorflow_backend.py:74: The name tf.get_default_graph is deprecated. Please use tf.compat.v1.get_default_graph instead.\n",
      "\n"
     ]
    }
   ],
   "source": [
    "classifier = Sequential()"
   ]
  },
  {
   "cell_type": "code",
   "execution_count": 22,
   "metadata": {},
   "outputs": [
    {
     "name": "stdout",
     "output_type": "stream",
     "text": [
      "WARNING:tensorflow:From C:\\Users\\mishrasad\\AppData\\Local\\Continuum\\anaconda3\\lib\\site-packages\\keras\\backend\\tensorflow_backend.py:517: The name tf.placeholder is deprecated. Please use tf.compat.v1.placeholder instead.\n",
      "\n",
      "WARNING:tensorflow:From C:\\Users\\mishrasad\\AppData\\Local\\Continuum\\anaconda3\\lib\\site-packages\\keras\\backend\\tensorflow_backend.py:4138: The name tf.random_uniform is deprecated. Please use tf.random.uniform instead.\n",
      "\n",
      "WARNING:tensorflow:From C:\\Users\\mishrasad\\AppData\\Local\\Continuum\\anaconda3\\lib\\site-packages\\keras\\optimizers.py:790: The name tf.train.Optimizer is deprecated. Please use tf.compat.v1.train.Optimizer instead.\n",
      "\n",
      "WARNING:tensorflow:From C:\\Users\\mishrasad\\AppData\\Local\\Continuum\\anaconda3\\lib\\site-packages\\keras\\backend\\tensorflow_backend.py:3376: The name tf.log is deprecated. Please use tf.math.log instead.\n",
      "\n",
      "WARNING:tensorflow:From C:\\Users\\mishrasad\\AppData\\Local\\Continuum\\anaconda3\\lib\\site-packages\\tensorflow_core\\python\\ops\\nn_impl.py:183: where (from tensorflow.python.ops.array_ops) is deprecated and will be removed in a future version.\n",
      "Instructions for updating:\n",
      "Use tf.where in 2.0, which has the same broadcast rule as np.where\n"
     ]
    }
   ],
   "source": [
    "# Adding the input layer and the first hidden layer\n",
    "classifier.add(Dense(units = 6, kernel_initializer = 'he_uniform',activation='relu',input_dim = 8))\n",
    "\n",
    "# Adding the second hidden layer\n",
    "classifier.add(Dense(units = 6, kernel_initializer = 'he_uniform',activation='relu'))\n",
    "# Adding the output layer\n",
    "classifier.add(Dense(units = 1, kernel_initializer = 'glorot_uniform', activation = 'sigmoid'))\n",
    "\n",
    "# Compiling the ANN\n",
    "classifier.compile(optimizer = 'Adamax', loss = 'binary_crossentropy', metrics = ['accuracy'])\n"
   ]
  },
  {
   "cell_type": "code",
   "execution_count": 24,
   "metadata": {},
   "outputs": [
    {
     "name": "stdout",
     "output_type": "stream",
     "text": [
      "Train on 411 samples, validate on 203 samples\n",
      "Epoch 1/100\n",
      "411/411 [==============================] - 0s 182us/step - loss: 0.5357 - acc: 0.7567 - val_loss: 0.5832 - val_acc: 0.7192\n",
      "Epoch 2/100\n",
      "411/411 [==============================] - 0s 158us/step - loss: 0.5338 - acc: 0.7543 - val_loss: 0.5818 - val_acc: 0.7192\n",
      "Epoch 3/100\n",
      "411/411 [==============================] - 0s 134us/step - loss: 0.5320 - acc: 0.7567 - val_loss: 0.5802 - val_acc: 0.7192\n",
      "Epoch 4/100\n",
      "411/411 [==============================] - 0s 131us/step - loss: 0.5302 - acc: 0.7591 - val_loss: 0.5788 - val_acc: 0.7241\n",
      "Epoch 5/100\n",
      "411/411 [==============================] - 0s 131us/step - loss: 0.5283 - acc: 0.7591 - val_loss: 0.5773 - val_acc: 0.7241\n",
      "Epoch 6/100\n",
      "411/411 [==============================] - 0s 129us/step - loss: 0.5265 - acc: 0.7664 - val_loss: 0.5761 - val_acc: 0.7241\n",
      "Epoch 7/100\n",
      "411/411 [==============================] - 0s 131us/step - loss: 0.5247 - acc: 0.7713 - val_loss: 0.5749 - val_acc: 0.7241\n",
      "Epoch 8/100\n",
      "411/411 [==============================] - 0s 129us/step - loss: 0.5229 - acc: 0.7737 - val_loss: 0.5730 - val_acc: 0.7291\n",
      "Epoch 9/100\n",
      "411/411 [==============================] - 0s 134us/step - loss: 0.5211 - acc: 0.7713 - val_loss: 0.5711 - val_acc: 0.7291\n",
      "Epoch 10/100\n",
      "411/411 [==============================] - 0s 156us/step - loss: 0.5196 - acc: 0.7713 - val_loss: 0.5702 - val_acc: 0.7389\n",
      "Epoch 11/100\n",
      "411/411 [==============================] - 0s 153us/step - loss: 0.5180 - acc: 0.7713 - val_loss: 0.5695 - val_acc: 0.7389\n",
      "Epoch 12/100\n",
      "411/411 [==============================] - 0s 185us/step - loss: 0.5167 - acc: 0.7737 - val_loss: 0.5689 - val_acc: 0.7389\n",
      "Epoch 13/100\n",
      "411/411 [==============================] - 0s 221us/step - loss: 0.5150 - acc: 0.7762 - val_loss: 0.5677 - val_acc: 0.7389\n",
      "Epoch 14/100\n",
      "411/411 [==============================] - 0s 221us/step - loss: 0.5136 - acc: 0.7737 - val_loss: 0.5668 - val_acc: 0.7438\n",
      "Epoch 15/100\n",
      "411/411 [==============================] - 0s 202us/step - loss: 0.5122 - acc: 0.7737 - val_loss: 0.5660 - val_acc: 0.7438\n",
      "Epoch 16/100\n",
      "411/411 [==============================] - 0s 219us/step - loss: 0.5108 - acc: 0.7737 - val_loss: 0.5653 - val_acc: 0.7438\n",
      "Epoch 17/100\n",
      "411/411 [==============================] - 0s 195us/step - loss: 0.5095 - acc: 0.7737 - val_loss: 0.5646 - val_acc: 0.7488\n",
      "Epoch 18/100\n",
      "411/411 [==============================] - 0s 195us/step - loss: 0.5084 - acc: 0.7737 - val_loss: 0.5639 - val_acc: 0.7488\n",
      "Epoch 19/100\n",
      "411/411 [==============================] - 0s 195us/step - loss: 0.5065 - acc: 0.7737 - val_loss: 0.5634 - val_acc: 0.7488\n",
      "Epoch 20/100\n",
      "411/411 [==============================] - 0s 224us/step - loss: 0.5052 - acc: 0.7713 - val_loss: 0.5628 - val_acc: 0.7537\n",
      "Epoch 21/100\n",
      "411/411 [==============================] - 0s 229us/step - loss: 0.5038 - acc: 0.7713 - val_loss: 0.5621 - val_acc: 0.7537\n",
      "Epoch 22/100\n",
      "411/411 [==============================] - 0s 195us/step - loss: 0.5023 - acc: 0.7737 - val_loss: 0.5617 - val_acc: 0.7537\n",
      "Epoch 23/100\n",
      "411/411 [==============================] - 0s 197us/step - loss: 0.5010 - acc: 0.7737 - val_loss: 0.5605 - val_acc: 0.7537\n",
      "Epoch 24/100\n",
      "411/411 [==============================] - 0s 192us/step - loss: 0.4993 - acc: 0.7737 - val_loss: 0.5606 - val_acc: 0.7537\n",
      "Epoch 25/100\n",
      "411/411 [==============================] - 0s 217us/step - loss: 0.4976 - acc: 0.7737 - val_loss: 0.5592 - val_acc: 0.7537\n",
      "Epoch 26/100\n",
      "411/411 [==============================] - 0s 200us/step - loss: 0.4956 - acc: 0.7762 - val_loss: 0.5585 - val_acc: 0.7537\n",
      "Epoch 27/100\n",
      "411/411 [==============================] - 0s 204us/step - loss: 0.4935 - acc: 0.7762 - val_loss: 0.5582 - val_acc: 0.7537\n",
      "Epoch 28/100\n",
      "411/411 [==============================] - 0s 202us/step - loss: 0.4910 - acc: 0.7737 - val_loss: 0.5569 - val_acc: 0.7488\n",
      "Epoch 29/100\n",
      "411/411 [==============================] - 0s 221us/step - loss: 0.4887 - acc: 0.7713 - val_loss: 0.5556 - val_acc: 0.7488\n",
      "Epoch 30/100\n",
      "411/411 [==============================] - 0s 217us/step - loss: 0.4861 - acc: 0.7689 - val_loss: 0.5549 - val_acc: 0.7488\n",
      "Epoch 31/100\n",
      "411/411 [==============================] - 0s 197us/step - loss: 0.4835 - acc: 0.7689 - val_loss: 0.5539 - val_acc: 0.7488\n",
      "Epoch 32/100\n",
      "411/411 [==============================] - 0s 243us/step - loss: 0.4806 - acc: 0.7689 - val_loss: 0.5536 - val_acc: 0.7488\n",
      "Epoch 33/100\n",
      "411/411 [==============================] - 0s 131us/step - loss: 0.4785 - acc: 0.7689 - val_loss: 0.5517 - val_acc: 0.7438\n",
      "Epoch 34/100\n",
      "411/411 [==============================] - 0s 192us/step - loss: 0.4759 - acc: 0.7689 - val_loss: 0.5506 - val_acc: 0.7438\n",
      "Epoch 35/100\n",
      "411/411 [==============================] - 0s 173us/step - loss: 0.4732 - acc: 0.7713 - val_loss: 0.5492 - val_acc: 0.7438\n",
      "Epoch 36/100\n",
      "411/411 [==============================] - 0s 161us/step - loss: 0.4715 - acc: 0.7713 - val_loss: 0.5482 - val_acc: 0.7537\n",
      "Epoch 37/100\n",
      "411/411 [==============================] - 0s 156us/step - loss: 0.4697 - acc: 0.7737 - val_loss: 0.5468 - val_acc: 0.7488\n",
      "Epoch 38/100\n",
      "411/411 [==============================] - 0s 175us/step - loss: 0.4684 - acc: 0.7737 - val_loss: 0.5464 - val_acc: 0.7438\n",
      "Epoch 39/100\n",
      "411/411 [==============================] - 0s 141us/step - loss: 0.4669 - acc: 0.7737 - val_loss: 0.5449 - val_acc: 0.7438\n",
      "Epoch 40/100\n",
      "411/411 [==============================] - 0s 190us/step - loss: 0.4654 - acc: 0.7737 - val_loss: 0.5446 - val_acc: 0.7488\n",
      "Epoch 41/100\n",
      "411/411 [==============================] - 0s 158us/step - loss: 0.4637 - acc: 0.7737 - val_loss: 0.5430 - val_acc: 0.7488\n",
      "Epoch 42/100\n",
      "411/411 [==============================] - 0s 156us/step - loss: 0.4623 - acc: 0.7737 - val_loss: 0.5421 - val_acc: 0.7488\n",
      "Epoch 43/100\n",
      "411/411 [==============================] - 0s 151us/step - loss: 0.4612 - acc: 0.7737 - val_loss: 0.5417 - val_acc: 0.7537\n",
      "Epoch 44/100\n",
      "411/411 [==============================] - 0s 153us/step - loss: 0.4600 - acc: 0.7737 - val_loss: 0.5415 - val_acc: 0.7537\n",
      "Epoch 45/100\n",
      "411/411 [==============================] - 0s 158us/step - loss: 0.4586 - acc: 0.7737 - val_loss: 0.5407 - val_acc: 0.7586\n",
      "Epoch 46/100\n",
      "411/411 [==============================] - 0s 161us/step - loss: 0.4578 - acc: 0.7737 - val_loss: 0.5399 - val_acc: 0.7586\n",
      "Epoch 47/100\n",
      "411/411 [==============================] - 0s 165us/step - loss: 0.4569 - acc: 0.7737 - val_loss: 0.5390 - val_acc: 0.7586\n",
      "Epoch 48/100\n",
      "411/411 [==============================] - 0s 144us/step - loss: 0.4564 - acc: 0.7737 - val_loss: 0.5384 - val_acc: 0.7586\n",
      "Epoch 49/100\n",
      "411/411 [==============================] - 0s 190us/step - loss: 0.4559 - acc: 0.7762 - val_loss: 0.5383 - val_acc: 0.7586\n",
      "Epoch 50/100\n",
      "411/411 [==============================] - 0s 153us/step - loss: 0.4552 - acc: 0.7737 - val_loss: 0.5378 - val_acc: 0.7537\n",
      "Epoch 51/100\n",
      "411/411 [==============================] - 0s 207us/step - loss: 0.4544 - acc: 0.7762 - val_loss: 0.5372 - val_acc: 0.7537\n",
      "Epoch 52/100\n",
      "411/411 [==============================] - 0s 168us/step - loss: 0.4539 - acc: 0.7762 - val_loss: 0.5370 - val_acc: 0.7537\n",
      "Epoch 53/100\n",
      "411/411 [==============================] - 0s 158us/step - loss: 0.4532 - acc: 0.7762 - val_loss: 0.5364 - val_acc: 0.7537\n",
      "Epoch 54/100\n",
      "411/411 [==============================] - 0s 168us/step - loss: 0.4527 - acc: 0.7762 - val_loss: 0.5361 - val_acc: 0.7488\n",
      "Epoch 55/100\n",
      "411/411 [==============================] - 0s 161us/step - loss: 0.4523 - acc: 0.7786 - val_loss: 0.5356 - val_acc: 0.7488\n",
      "Epoch 56/100\n",
      "411/411 [==============================] - 0s 180us/step - loss: 0.4514 - acc: 0.7762 - val_loss: 0.5351 - val_acc: 0.7488\n",
      "Epoch 57/100\n",
      "411/411 [==============================] - 0s 163us/step - loss: 0.4506 - acc: 0.7762 - val_loss: 0.5342 - val_acc: 0.7537\n",
      "Epoch 58/100\n",
      "411/411 [==============================] - 0s 158us/step - loss: 0.4501 - acc: 0.7762 - val_loss: 0.5340 - val_acc: 0.7488\n",
      "Epoch 59/100\n",
      "411/411 [==============================] - 0s 141us/step - loss: 0.4494 - acc: 0.7786 - val_loss: 0.5338 - val_acc: 0.7488\n",
      "Epoch 60/100\n",
      "411/411 [==============================] - 0s 148us/step - loss: 0.4487 - acc: 0.7786 - val_loss: 0.5332 - val_acc: 0.7488\n"
     ]
    },
    {
     "name": "stdout",
     "output_type": "stream",
     "text": [
      "Epoch 61/100\n",
      "411/411 [==============================] - 0s 134us/step - loss: 0.4481 - acc: 0.7810 - val_loss: 0.5332 - val_acc: 0.7488\n",
      "Epoch 62/100\n",
      "411/411 [==============================] - 0s 131us/step - loss: 0.4474 - acc: 0.7810 - val_loss: 0.5325 - val_acc: 0.7438\n",
      "Epoch 63/100\n",
      "411/411 [==============================] - 0s 178us/step - loss: 0.4471 - acc: 0.7810 - val_loss: 0.5323 - val_acc: 0.7438\n",
      "Epoch 64/100\n",
      "411/411 [==============================] - 0s 131us/step - loss: 0.4465 - acc: 0.7810 - val_loss: 0.5320 - val_acc: 0.7488\n",
      "Epoch 65/100\n",
      "411/411 [==============================] - 0s 124us/step - loss: 0.4461 - acc: 0.7810 - val_loss: 0.5312 - val_acc: 0.7438\n",
      "Epoch 66/100\n",
      "411/411 [==============================] - 0s 127us/step - loss: 0.4451 - acc: 0.7810 - val_loss: 0.5310 - val_acc: 0.7488\n",
      "Epoch 67/100\n",
      "411/411 [==============================] - 0s 122us/step - loss: 0.4444 - acc: 0.7810 - val_loss: 0.5304 - val_acc: 0.7438\n",
      "Epoch 68/100\n",
      "411/411 [==============================] - 0s 124us/step - loss: 0.4439 - acc: 0.7810 - val_loss: 0.5300 - val_acc: 0.7438\n",
      "Epoch 69/100\n",
      "411/411 [==============================] - 0s 119us/step - loss: 0.4432 - acc: 0.7810 - val_loss: 0.5305 - val_acc: 0.7438\n",
      "Epoch 70/100\n",
      "411/411 [==============================] - 0s 127us/step - loss: 0.4427 - acc: 0.7786 - val_loss: 0.5305 - val_acc: 0.7438\n",
      "Epoch 71/100\n",
      "411/411 [==============================] - 0s 139us/step - loss: 0.4423 - acc: 0.7762 - val_loss: 0.5304 - val_acc: 0.7488\n",
      "Epoch 72/100\n",
      "411/411 [==============================] - 0s 134us/step - loss: 0.4418 - acc: 0.7786 - val_loss: 0.5301 - val_acc: 0.7488\n",
      "Epoch 73/100\n",
      "411/411 [==============================] - 0s 129us/step - loss: 0.4413 - acc: 0.7762 - val_loss: 0.5302 - val_acc: 0.7438\n",
      "Epoch 74/100\n",
      "411/411 [==============================] - 0s 127us/step - loss: 0.4408 - acc: 0.7762 - val_loss: 0.5300 - val_acc: 0.7537\n",
      "Epoch 75/100\n",
      "411/411 [==============================] - 0s 127us/step - loss: 0.4404 - acc: 0.7810 - val_loss: 0.5293 - val_acc: 0.7586\n",
      "Epoch 76/100\n",
      "411/411 [==============================] - 0s 127us/step - loss: 0.4399 - acc: 0.7762 - val_loss: 0.5294 - val_acc: 0.7586\n",
      "Epoch 77/100\n",
      "411/411 [==============================] - 0s 173us/step - loss: 0.4395 - acc: 0.7762 - val_loss: 0.5296 - val_acc: 0.7586\n",
      "Epoch 78/100\n",
      "411/411 [==============================] - 0s 129us/step - loss: 0.4392 - acc: 0.7762 - val_loss: 0.5295 - val_acc: 0.7586\n",
      "Epoch 79/100\n",
      "411/411 [==============================] - 0s 131us/step - loss: 0.4388 - acc: 0.7762 - val_loss: 0.5293 - val_acc: 0.7537\n",
      "Epoch 80/100\n",
      "411/411 [==============================] - 0s 139us/step - loss: 0.4385 - acc: 0.7786 - val_loss: 0.5295 - val_acc: 0.7586\n",
      "Epoch 81/100\n",
      "411/411 [==============================] - 0s 122us/step - loss: 0.4384 - acc: 0.7786 - val_loss: 0.5288 - val_acc: 0.7488\n",
      "Epoch 82/100\n",
      "411/411 [==============================] - 0s 122us/step - loss: 0.4385 - acc: 0.7762 - val_loss: 0.5293 - val_acc: 0.7635\n",
      "Epoch 83/100\n",
      "411/411 [==============================] - 0s 134us/step - loss: 0.4373 - acc: 0.7786 - val_loss: 0.5285 - val_acc: 0.7586\n",
      "Epoch 84/100\n",
      "411/411 [==============================] - 0s 131us/step - loss: 0.4371 - acc: 0.7786 - val_loss: 0.5286 - val_acc: 0.7537\n",
      "Epoch 85/100\n",
      "411/411 [==============================] - 0s 124us/step - loss: 0.4365 - acc: 0.7786 - val_loss: 0.5284 - val_acc: 0.7537\n",
      "Epoch 86/100\n",
      "411/411 [==============================] - 0s 124us/step - loss: 0.4363 - acc: 0.7786 - val_loss: 0.5293 - val_acc: 0.7586\n",
      "Epoch 87/100\n",
      "411/411 [==============================] - 0s 124us/step - loss: 0.4359 - acc: 0.7786 - val_loss: 0.5289 - val_acc: 0.7586\n",
      "Epoch 88/100\n",
      "411/411 [==============================] - 0s 122us/step - loss: 0.4356 - acc: 0.7786 - val_loss: 0.5284 - val_acc: 0.7537\n",
      "Epoch 89/100\n",
      "411/411 [==============================] - 0s 182us/step - loss: 0.4354 - acc: 0.7786 - val_loss: 0.5284 - val_acc: 0.7488\n",
      "Epoch 90/100\n",
      "411/411 [==============================] - 0s 131us/step - loss: 0.4351 - acc: 0.7786 - val_loss: 0.5287 - val_acc: 0.7537\n",
      "Epoch 91/100\n",
      "411/411 [==============================] - 0s 139us/step - loss: 0.4349 - acc: 0.7762 - val_loss: 0.5291 - val_acc: 0.7537\n",
      "Epoch 92/100\n",
      "411/411 [==============================] - 0s 124us/step - loss: 0.4347 - acc: 0.7786 - val_loss: 0.5291 - val_acc: 0.7635\n",
      "Epoch 93/100\n",
      "411/411 [==============================] - 0s 129us/step - loss: 0.4344 - acc: 0.7762 - val_loss: 0.5293 - val_acc: 0.7635\n",
      "Epoch 94/100\n",
      "411/411 [==============================] - 0s 124us/step - loss: 0.4336 - acc: 0.7786 - val_loss: 0.5288 - val_acc: 0.7635\n",
      "Epoch 95/100\n",
      "411/411 [==============================] - 0s 139us/step - loss: 0.4336 - acc: 0.7810 - val_loss: 0.5295 - val_acc: 0.7586\n",
      "Epoch 96/100\n",
      "411/411 [==============================] - 0s 134us/step - loss: 0.4333 - acc: 0.7786 - val_loss: 0.5288 - val_acc: 0.7635\n",
      "Epoch 97/100\n",
      "411/411 [==============================] - 0s 134us/step - loss: 0.4330 - acc: 0.7786 - val_loss: 0.5284 - val_acc: 0.7635\n",
      "Epoch 98/100\n",
      "411/411 [==============================] - 0s 129us/step - loss: 0.4327 - acc: 0.7786 - val_loss: 0.5281 - val_acc: 0.7537\n",
      "Epoch 99/100\n",
      "411/411 [==============================] - 0s 124us/step - loss: 0.4323 - acc: 0.7786 - val_loss: 0.5275 - val_acc: 0.7537\n",
      "Epoch 100/100\n",
      "411/411 [==============================] - 0s 129us/step - loss: 0.4321 - acc: 0.7786 - val_loss: 0.5275 - val_acc: 0.7586\n"
     ]
    }
   ],
   "source": [
    "# Fitting the ANN to the Training set\n",
    "model_history=classifier.fit(X_train, y_train,validation_split=0.33, batch_size = 10, epochs = 100)"
   ]
  },
  {
   "cell_type": "code",
   "execution_count": null,
   "metadata": {},
   "outputs": [],
   "source": []
  }
 ],
 "metadata": {
  "kernelspec": {
   "display_name": "Python [conda env:root] *",
   "language": "python",
   "name": "conda-root-py"
  },
  "language_info": {
   "codemirror_mode": {
    "name": "ipython",
    "version": 3
   },
   "file_extension": ".py",
   "mimetype": "text/x-python",
   "name": "python",
   "nbconvert_exporter": "python",
   "pygments_lexer": "ipython3",
   "version": "3.7.4"
  }
 },
 "nbformat": 4,
 "nbformat_minor": 2
}
